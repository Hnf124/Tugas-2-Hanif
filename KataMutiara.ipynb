{
  "nbformat": 4,
  "nbformat_minor": 0,
  "metadata": {
    "colab": {
      "provenance": [],
      "authorship_tag": "ABX9TyNzFfS9Sqh4mN8OtipMdHYE",
      "include_colab_link": true
    },
    "kernelspec": {
      "name": "python3",
      "display_name": "Python 3"
    },
    "language_info": {
      "name": "python"
    }
  },
  "cells": [
    {
      "cell_type": "markdown",
      "metadata": {
        "id": "view-in-github",
        "colab_type": "text"
      },
      "source": [
        "<a href=\"https://colab.research.google.com/github/Hnf124/Tugas-2-Hanif/blob/main/KataMutiara.ipynb\" target=\"_parent\"><img src=\"https://colab.research.google.com/assets/colab-badge.svg\" alt=\"Open In Colab\"/></a>"
      ]
    },
    {
      "cell_type": "code",
      "execution_count": 14,
      "metadata": {
        "colab": {
          "base_uri": "https://localhost:8080/"
        },
        "id": "21ESEdn7Bwwu",
        "outputId": "e640390e-edbe-4ce2-9bae-506b9fbeb595"
      },
      "outputs": [
        {
          "output_type": "stream",
          "name": "stdout",
          "text": [
            "Kebersihan sebagian dari iman\n",
            "Kebersihan sebagian dari iman\n"
          ]
        }
      ],
      "source": [
        "# Cetak kata Mutiara sebanyak kita mau\n",
        "\n",
        "class CetakKataMutiara:\n",
        "    def __init__(self,katamutiara,jumlah):\n",
        "      self.katamutiara = katamutiara\n",
        "      self.jumlah = jumlah\n",
        "\n",
        "    def print_mutiara(self):\n",
        "      for i in range(self.jumlah):\n",
        "        print(self.katamutiara)\n",
        "\n",
        "obj = CetakKataMutiara(\"Kebersihan sebagian dari iman\",2)\n",
        "obj.print_mutiara()"
      ]
    },
    {
      "cell_type": "code",
      "source": [],
      "metadata": {
        "id": "NvUy2TXrFLVX"
      },
      "execution_count": null,
      "outputs": []
    }
  ]
}