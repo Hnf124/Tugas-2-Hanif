{
  "nbformat": 4,
  "nbformat_minor": 0,
  "metadata": {
    "colab": {
      "provenance": [],
      "authorship_tag": "ABX9TyPSAH8oA8CkrCy9dSRwpBVw",
      "include_colab_link": true
    },
    "kernelspec": {
      "name": "python3",
      "display_name": "Python 3"
    },
    "language_info": {
      "name": "python"
    }
  },
  "cells": [
    {
      "cell_type": "markdown",
      "metadata": {
        "id": "view-in-github",
        "colab_type": "text"
      },
      "source": [
        "<a href=\"https://colab.research.google.com/github/Hnf124/Tugas-2-Hanif/blob/main/cetaknamakaryawan.ipynb\" target=\"_parent\"><img src=\"https://colab.research.google.com/assets/colab-badge.svg\" alt=\"Open In Colab\"/></a>"
      ]
    },
    {
      "cell_type": "code",
      "execution_count": 3,
      "metadata": {
        "colab": {
          "base_uri": "https://localhost:8080/"
        },
        "id": "sUyt84AMGA9c",
        "outputId": "94efa15c-38b6-48ca-87f8-6a079dd8dd4a"
      },
      "outputs": [
        {
          "output_type": "stream",
          "name": "stdout",
          "text": [
            "ID     : 24332\n",
            "Nama   : Ahmad\n",
            "Agensi : Keuangan\n"
          ]
        }
      ],
      "source": [
        "class cetaknamakaryawan:\n",
        "  def __init__(self,id,nama,agensi):\n",
        "    self.id = id\n",
        "    self.nama = nama\n",
        "    self.agensi = agensi\n",
        "\n",
        "  def print_identitas(self):\n",
        "    print(\"ID     :\", self.id)\n",
        "    print(\"Nama   :\", self.nama)\n",
        "    print(\"Agensi :\", self.agensi)\n",
        "\n",
        "obj = cetaknamakaryawan(24332,\"Ahmad\",\"Keuangan\")\n",
        "obj.print_identitas()"
      ]
    }
  ]
}