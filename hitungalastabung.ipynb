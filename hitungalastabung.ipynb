{
  "nbformat": 4,
  "nbformat_minor": 0,
  "metadata": {
    "colab": {
      "provenance": [],
      "authorship_tag": "ABX9TyPdFD3eF0YHG5p96cUlxawa",
      "include_colab_link": true
    },
    "kernelspec": {
      "name": "python3",
      "display_name": "Python 3"
    },
    "language_info": {
      "name": "python"
    }
  },
  "cells": [
    {
      "cell_type": "markdown",
      "metadata": {
        "id": "view-in-github",
        "colab_type": "text"
      },
      "source": [
        "<a href=\"https://colab.research.google.com/github/Hnf124/Tugas-2-Hanif/blob/main/hitungalastabung.ipynb\" target=\"_parent\"><img src=\"https://colab.research.google.com/assets/colab-badge.svg\" alt=\"Open In Colab\"/></a>"
      ]
    },
    {
      "cell_type": "code",
      "execution_count": 1,
      "metadata": {
        "colab": {
          "base_uri": "https://localhost:8080/"
        },
        "id": "HcE36DW6d3-h",
        "outputId": "71ac79cf-6de0-4d03-9c35-d568b01f349c"
      },
      "outputs": [
        {
          "output_type": "stream",
          "name": "stdout",
          "text": [
            "Keliling alas tabung :  43.96\n"
          ]
        }
      ],
      "source": [
        "class hitungalastabung:\n",
        "  def __init__(self,r):\n",
        "    self.r = r\n",
        "    self.phi = 3.14\n",
        "\n",
        "obj = hitungalastabung(7)\n",
        "keliling = 2 * obj.phi * obj.r\n",
        "print(\"Keliling alas tabung : \", keliling)"
      ]
    }
  ]
}