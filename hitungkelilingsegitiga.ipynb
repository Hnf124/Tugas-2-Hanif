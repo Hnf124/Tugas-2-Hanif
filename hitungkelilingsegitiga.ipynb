{
  "nbformat": 4,
  "nbformat_minor": 0,
  "metadata": {
    "colab": {
      "provenance": [],
      "authorship_tag": "ABX9TyMte0yBCI5/+V++CWsPSSd3",
      "include_colab_link": true
    },
    "kernelspec": {
      "name": "python3",
      "display_name": "Python 3"
    },
    "language_info": {
      "name": "python"
    }
  },
  "cells": [
    {
      "cell_type": "markdown",
      "metadata": {
        "id": "view-in-github",
        "colab_type": "text"
      },
      "source": [
        "<a href=\"https://colab.research.google.com/github/Hnf124/Tugas-2-Hanif/blob/main/hitungkelilingsegitiga.ipynb\" target=\"_parent\"><img src=\"https://colab.research.google.com/assets/colab-badge.svg\" alt=\"Open In Colab\"/></a>"
      ]
    },
    {
      "cell_type": "code",
      "execution_count": 6,
      "metadata": {
        "colab": {
          "base_uri": "https://localhost:8080/"
        },
        "id": "ctzO7QzJHu35",
        "outputId": "67b738fd-7f1f-4682-a518-ac4027f74a6a"
      },
      "outputs": [
        {
          "output_type": "stream",
          "name": "stdout",
          "text": [
            "Keliling Segitiga:  108\n"
          ]
        }
      ],
      "source": [
        "class hitungsegitiga:\n",
        "  def __init__(self,a,b,c):\n",
        "    self.a = a\n",
        "    self.b = b\n",
        "    self.c = c\n",
        "\n",
        "obj = hitungsegitiga(9,3,4)\n",
        "keliling = obj.a * obj.b * obj.c\n",
        "print(\"Keliling Segitiga: \", keliling)"
      ]
    }
  ]
}