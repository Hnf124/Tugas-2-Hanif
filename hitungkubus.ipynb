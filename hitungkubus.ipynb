{
  "nbformat": 4,
  "nbformat_minor": 0,
  "metadata": {
    "colab": {
      "provenance": [],
      "authorship_tag": "ABX9TyMSe1OZn7HfnhpFiMPyigxk",
      "include_colab_link": true
    },
    "kernelspec": {
      "name": "python3",
      "display_name": "Python 3"
    },
    "language_info": {
      "name": "python"
    }
  },
  "cells": [
    {
      "cell_type": "markdown",
      "metadata": {
        "id": "view-in-github",
        "colab_type": "text"
      },
      "source": [
        "<a href=\"https://colab.research.google.com/github/Hnf124/Tugas-2-Hanif/blob/main/hitungkubus.ipynb\" target=\"_parent\"><img src=\"https://colab.research.google.com/assets/colab-badge.svg\" alt=\"Open In Colab\"/></a>"
      ]
    },
    {
      "cell_type": "code",
      "execution_count": 3,
      "metadata": {
        "colab": {
          "base_uri": "https://localhost:8080/"
        },
        "id": "gDiPivv_c0cg",
        "outputId": "feb55c9a-e222-43a7-cf95-66f9307c3df9"
      },
      "outputs": [
        {
          "output_type": "stream",
          "name": "stdout",
          "text": [
            "Keliling Kubus:  60\n"
          ]
        }
      ],
      "source": [
        "class hitungkubus:\n",
        "  def __init__(self,s):\n",
        "    self.s = s\n",
        "\n",
        "obj = hitungkubus(5)\n",
        "keliling = 12 * obj.s\n",
        "print(\"Keliling Kubus: \", keliling)"
      ]
    }
  ]
}